{
 "cells": [
  {
   "cell_type": "markdown",
   "id": "47c7dcc7",
   "metadata": {},
   "source": [
    "## COURSE PROJECT "
   ]
  },
  {
   "cell_type": "markdown",
   "id": "c134e7b5",
   "metadata": {},
   "source": [
    "## Research Question 1:\n",
    "### Does age influence the impact of social support on stress levels?\n",
    "\n",
    "This question tackles the correlation between how the different age categories get support on their stress levels. The population parameters would be to look at mean stress levels by each age group and social support level. The variables we shall look at in particular are the age and level of social support."
   ]
  },
  {
   "cell_type": "markdown",
   "id": "32f376aa",
   "metadata": {},
   "source": [
    "## Variables:\n",
    "#### DEMO_age\n",
    "This variable gives the age of the respondant. For this particular research question we will split each age into three categories. Young adults(18–35),Middle-aged(36–55),older adults(56+).\n",
    "#### PSYCH_zimet_multidimensional_social_support_scale_decisions\n",
    "This variable measures the social support each individual receives from their friends and family. By again splitting each into three categories we can have: low, medium and high. \n",
    "#### HEALTH_hampson_good_health_practices_scale_manage_sress\n",
    "This variable looks at the reported stress levels and if they can manage their stress. The reason of picking this variable is i can predict if they are stressed or not by looking at how well they can manage their stress.\n"
   ]
  },
  {
   "cell_type": "markdown",
   "id": "9fd5c03c",
   "metadata": {},
   "source": [
    "## Visualization using variables:\n",
    "- Visualization: A Stacked Grouped Bar Chart where:\n",
    "- The x-axis represents age groups (young adults, middle-aged, older adults).\n",
    "- The y-axis shows the average stress levels.\n",
    "\n",
    "Each age group is split into three segments representing levels of social support (low, medium, high).\n",
    "I plan to use a Grouped Bar Chart. The reason for the bar chart is becuase it helps us compare data accross various categories and bar charts are used to represent categorical data. Secondly, we use the bar chart for the ease of interpretation.\n",
    "## Analysis\n",
    "I plan to use hypothesis testing on the the data collected in the following ways:\n",
    "1) ### Null Hypotheses H₀: There is no effect between social support levels and age groups on stress levels.\n",
    "2) ### Alternative Hypotheses: H₁: There is a significant effect between social support levels and age groups on stress levels.\n",
    "\n",
    "The data set would be the data that we split up into the different categories.\n",
    "## Assumptions\n",
    "- Independence of observations\n",
    "- Normality of stress levels within each group combination\n",
    "- Homogeneity of variances across groups\n",
    "## Interpretation \n",
    "Look at the p-values for social support and age group. A p-value is calculated by comparing the observed sample statistic to the sampling distribution of the statistic under the assumption that the null hypothesis is true.\n",
    "If the p-value for social support is below a significance level 95% (which i picked), this indicates that social support significantly affects stress levels.\n",
    "If the p-value for age group is below the significance level, this means that age group has a significant impact on stress levels.\n",
    "## Conclusion \n",
    "Interpret p-values in terms of the strength of evidence hence if the p-value of the interaction between the social support levels and the age groups on stress levels is significant, then this suggests that the effect of social support on stress is different for each age group and we can finally answer the research question."
   ]
  },
  {
   "cell_type": "markdown",
   "id": "72d35954",
   "metadata": {},
   "source": [
    "## Research Question 2:\n",
    "### is there a connection between the number of hours a person works per week and their burnout levels in 2022?\n",
    "The reason for picking this research question was to see if burnout negatively affects well-being and social connections which would be aligning with the Canadian Social Connection Survey (CSCS) project's goals."
   ]
  },
  {
   "cell_type": "markdown",
   "id": "76aa8fb5",
   "metadata": {},
   "source": [
    "## Variables:\n",
    "#### WELLNESS_malach_pines_burnout_measure_score\n",
    "This variable measures the burnout feeling each person is feeling in terms of a scale. The reason of picking this variable in specific is because i can directly measure the burnout depending on the rating they give and then relate it to the number of work hours and see if there is any connection.\n",
    "\n",
    "#### WORK_hours_per_week\n",
    "This variable stores the number of hours a person works for and we shall later relate it to the burnout variable by comparing the two variables we can come up to see if there is any connection."
   ]
  },
  {
   "cell_type": "markdown",
   "id": "07e6884f",
   "metadata": {},
   "source": [
    "## Visualization using variables\n",
    "Visualization: A 2D Density Plot with Linear Regression Overlay:\n",
    "- The x-axis represents WORK_hours_per_week.\n",
    "- The y-axis shows burnout levels.\n",
    "- A KDE contour plot visualizes the density of observations, with a regression line fitted to highlight trends.\n",
    "\n",
    "To represent the data i shall be using a Kernel Density Estimation (KDE), sample size, and modality of both numeric variables. KDE plots provide a smooth and visually appealing representation for initial assessment. Secondly, it would provide a suitable sampling distribution to perform a hypothesis test on using bootstrapping.\n",
    "\n",
    "## Analysis\n",
    "Using data from the 2022 cross-sectional survey, a least squares linear regression model will be fitted with WORK_hours_per_week predicting WELLNESS_malach_pines_burnout_measure_score. A 95% confidence interval for the slope coefficient will be constructed via bootstrapped resampling.\n",
    "1. ### Null Hypothesis (H₀): There is no linear connection between work hours and burnout levels.\n",
    "2. ### Alternative Hypothesis (H₁): There is a linear connection between work hours and burnout levels.\n",
    "## Assumptions\n",
    "- Independence of observations\n",
    "- Normality of stress levels within each group combination\n",
    "- Homogeneity of variances across groups\n",
    "## Conclusion\n",
    "- Statistically significant negative association: The 95% CI does not include zero and is negative.\n",
    "- Statistically significant positive association: The 95% CI does not include zero and is positive.\n",
    "- No statistically significant association: The 95% CI includes zero.\n"
   ]
  },
  {
   "cell_type": "markdown",
   "id": "61627041",
   "metadata": {},
   "source": [
    "## Research Question 3:\n",
    "### Does drug use influence depression levels across different genders?\n",
    "\n",
    "I got the idea of this research question when listening to the interview between Prof Scott and Dr. Kiffer. During the interview he mentioned the fact that the reason for depression/mental issues was not because of usage of drugs but rather the lack of support to social connection. Hence, why i wanted to show whether this would be the case."
   ]
  },
  {
   "cell_type": "markdown",
   "id": "efa82db8",
   "metadata": {},
   "source": [
    "## Variables:\n",
    "#### DEMO_gender\n",
    "The reason i divided this question further into genders because i wanted to see if what gender you are and having drugs was a factor to your depression hence why i picked this variable.\n",
    "#### SUBSTANCE_USE_dast_10_scale_nonmedical\n",
    "This variable stores the data of those who have had drugs apart from the medical ones and i can therefore account for these individuals.\n",
    "#### WELLNESS_depression_diagnosis\n",
    "Shows if the indivual has been diagnosed with depression."
   ]
  },
  {
   "cell_type": "markdown",
   "id": "9c7ab80c",
   "metadata": {},
   "source": [
    "## Visualization using variables\n",
    "A Box Plot or Violin Plot will be used to display the distribution of depression levels among individuals who use drugs versus those who do not, within each gender.\n",
    "- x-axis: Gender (Male, Female).\n",
    "- y-axis: Depression levels.\n",
    "- Box or Violin Colors: Different colors for individuals who use drugs and those who do not.\n",
    "- Why a Box Plot/Violin Plot?\n",
    "A box plot or violin plot effectively displays the spread, median, and range of depression levels within each category, making it easier to compare depression severity based on drug use across genders.\n",
    "## Analysis\n",
    "1. ### Null Hypothesis (H₀): Drug use and gender have no effect on depression levels.\n",
    "2. ### Alternative Hypothesis (Hₐ): Drug use and gender significantly affect depression levels.\n",
    "## Assumptions\n",
    "- Independence of observations\n",
    "- Normality of stress levels within each group combination\n",
    "- Homogeneity of variances across groups\n",
    "## Interpretation:\n",
    "- A significant p-value for drug use would suggest that drug users experience different levels of depression compared to non-users.\n",
    "- A significant p-value for gender would imply that depression levels differ between males and females.\n",
    "- A significant interaction effect would indicate that the impact of drug use on depression differs by gender, suggesting that one gender may be more affected by drug use in terms of depression levels.\n",
    "## Conclusion:\n",
    "If the p-values indicate significance, the results would suggest that drug use correlates with higher depression levels and that this relationship may vary by gender."
   ]
  },
  {
   "cell_type": "code",
   "execution_count": null,
   "id": "00721ce0",
   "metadata": {},
   "outputs": [],
   "source": []
  }
 ],
 "metadata": {
  "kernelspec": {
   "display_name": "Python 3 (ipykernel)",
   "language": "python",
   "name": "python3"
  },
  "language_info": {
   "codemirror_mode": {
    "name": "ipython",
    "version": 3
   },
   "file_extension": ".py",
   "mimetype": "text/x-python",
   "name": "python",
   "nbconvert_exporter": "python",
   "pygments_lexer": "ipython3",
   "version": "3.11.6"
  }
 },
 "nbformat": 4,
 "nbformat_minor": 5
}
